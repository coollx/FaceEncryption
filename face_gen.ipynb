{
 "cells": [
  {
   "cell_type": "code",
   "execution_count": 1,
   "metadata": {},
   "outputs": [],
   "source": [
    "import cv2\n",
    "import os\n",
    "import random\n",
    "import torch\n",
    "import mediapipe as mp\n",
    "mp_face_detection = mp.solutions.face_detection\n",
    "mp_drawing = mp.solutions.drawing_utils"
   ]
  },
  {
   "cell_type": "code",
   "execution_count": 8,
   "metadata": {},
   "outputs": [
    {
     "name": "stdout",
     "output_type": "stream",
     "text": [
      "range(0, 262)\n"
     ]
    }
   ],
   "source": [
    "#cv2 read video\n",
    "cap = cv2.VideoCapture('private_dataset/Xiang.mp4')\n",
    "\n",
    "def generate_frame(path, frame_number):\n",
    "    #create folder if it doesn't exist\n",
    "    if not os.path.exists('Private_dataset/' + path):\n",
    "        os.makedirs('Private_dataset/' + path)\n",
    "        \n",
    "\n",
    "    vidcap = cv2.VideoCapture('Private_dataset/{}.mp4'.format(path))\n",
    "    #sample 40 frames uniformly from the video\n",
    "    frame_count = int(vidcap.get(cv2.CAP_PROP_FRAME_COUNT))\n",
    "    print(range(frame_count))\n",
    "    frame_indices = sorted(random.sample(range(frame_count), frame_number))\n",
    "    vidcap.set(cv2.CAP_PROP_POS_FRAMES, frame_indices[0])\n",
    "    success, image = vidcap.read()\n",
    "    count = 0\n",
    "    face_detection = mp_face_detection.FaceDetection(model_selection=0, min_detection_confidence=0.5)\n",
    "    res = []\n",
    "    \n",
    "    for i in range(1, frame_count):\n",
    "        if i == frame_indices[count]:\n",
    "            #rotate the image 180 degrees\n",
    "            image = cv2.cvtColor(image, cv2.COLOR_BGR2RGB)\n",
    "            results = face_detection.process(image)\n",
    "            image = cv2.cvtColor(image, cv2.COLOR_RGB2BGR)\n",
    "            if results.detections:\n",
    "                for detection in results.detections:\n",
    "                    #get the bounding box\n",
    "                    bbox = detection.location_data.relative_bounding_box\n",
    "                    #get the coordinates of the bounding box\n",
    "                    x = int(bbox.xmin * image.shape[1])\n",
    "                    y = int(bbox.ymin*0.7 * image.shape[0])\n",
    "                    w = int(bbox.width * image.shape[1])\n",
    "                    h = int(bbox.height*1.4 * image.shape[0])\n",
    "                    #crop the image\n",
    "                    image = image[y:y+h, x:x+w]\n",
    "\n",
    "\n",
    "            # faces = fast_mtcnn(image)\n",
    "            cv2.imwrite(f\"./Private_dataset/{format(path)}/{format(count, '04d')}.jpg\", image)\n",
    "            res.append(image)\n",
    "            count += 1\n",
    "            #cv2.imshow('MediaPipe Face Detection', cv2.flip(image, 1))\n",
    "            #cv2.waitKey(0)\n",
    "            #destory all windows\n",
    "            #cv2.destroyAllWindows()\n",
    "            if count >= len(frame_indices):\n",
    "                break\n",
    "        success, image = vidcap.read()\n",
    "        if not success:\n",
    "            break\n",
    "\n",
    "generate_frame('Bowen', 40)"
   ]
  },
  {
   "cell_type": "code",
   "execution_count": 9,
   "metadata": {},
   "outputs": [
    {
     "name": "stdout",
     "output_type": "stream",
     "text": [
      "range(0, 197)\n",
      "range(0, 212)\n"
     ]
    }
   ],
   "source": [
    "generate_frame('Jiaxun', 40)\n",
    "generate_frame('Xiang', 40)"
   ]
  },
  {
   "cell_type": "code",
   "execution_count": null,
   "metadata": {},
   "outputs": [],
   "source": []
  },
  {
   "cell_type": "code",
   "execution_count": 1,
   "metadata": {},
   "outputs": [
    {
     "name": "stdout",
     "output_type": "stream",
     "text": [
      "d:\\x\\cs\\3xxx\\SDS 3386\\FaceEncryption\n"
     ]
    }
   ],
   "source": [
    "import os\n",
    "# print current directory\n",
    "print(os.getcwd())"
   ]
  },
  {
   "cell_type": "code",
   "execution_count": null,
   "metadata": {},
   "outputs": [],
   "source": [
    "names = ['Bowen', 'Jiaxun', 'Xiang']\n",
    "for name in names:\n",
    "    src_dir = 'Private_dataset/' + name\n",
    "    train_dir = 'CelebA_HQ_facial_identity_dataset/train/' + name\n",
    "    test_dir = 'CelebA_HQ_facial_identity_dataset/test/' + name\n",
    "    \n",
    "    #create folder if it doesn't exist\n",
    "    if not os.path.exists(train_dir):\n",
    "        os.makedirs(train_dir)\n",
    "    if not os.path.exists(test_dir):\n",
    "        os.makedirs(test_dir)\n",
    "        \n",
    "        \n",
    "    #get all the files in the directory\n",
    "    files = os.listdir(src_dir)\n",
    "    #shuffle the files\n",
    "    random.shuffle(files)\n",
    "    #split the files into train and test\n",
    "    train_files = files[:int(len(files)*0.75)]\n",
    "    test_files = files[int(len(files)*0.75):]\n",
    "\n",
    "    for file in train_files:\n",
    "        os.rename(os.path.join(src_dir, file), os.path.join(train_dir, file))\n",
    "    for file in test_files:\n",
    "        os.rename(os.path.join(src_dir, file), os.path.join(test_dir, file))"
   ]
  }
 ],
 "metadata": {
  "kernelspec": {
   "display_name": "Python 3.8.13 ('SDS')",
   "language": "python",
   "name": "python3"
  },
  "language_info": {
   "codemirror_mode": {
    "name": "ipython",
    "version": 3
   },
   "file_extension": ".py",
   "mimetype": "text/x-python",
   "name": "python",
   "nbconvert_exporter": "python",
   "pygments_lexer": "ipython3",
   "version": "3.8.13"
  },
  "orig_nbformat": 4,
  "vscode": {
   "interpreter": {
    "hash": "64d289be222cedc063c7d93f6e3cd98c637b22e21817e88681cd2d85cbb06b17"
   }
  }
 },
 "nbformat": 4,
 "nbformat_minor": 2
}
