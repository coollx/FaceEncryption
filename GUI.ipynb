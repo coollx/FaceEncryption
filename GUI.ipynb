{
 "cells": [
  {
   "cell_type": "code",
   "execution_count": 13,
   "metadata": {},
   "outputs": [],
   "source": [
    "import cv2\n",
    "from tkinter import *\n",
    "import numpy as np\n",
    "from PIL import Image, ImageTk\n",
    "import torch\n",
    "\n",
    "import cv2 as cv\n",
    "import numpy as np\n",
    "import mediapipe as mp\n",
    "\n",
    "from torchvision import models, transforms\n",
    "\n",
    "import numpy as np\n",
    "import matplotlib.pyplot as plt\n",
    "\n",
    "\n",
    "import pandas as pd\n",
    "from utils import * \n",
    "import time \n",
    "\n",
    "import json\n",
    "\n",
    "from PIL import Image\n",
    "\n",
    "device = torch.device(\"cuda:0\" if torch.cuda.is_available() else \"cpu\") # device object\n",
    "transforms_test = transforms.Compose([\n",
    "    transforms.Resize((224, 224)),\n",
    "    transforms.ToTensor(),\n",
    "    transforms.Normalize([0.485, 0.456, 0.406], [0.229, 0.224, 0.225])\n",
    "])"
   ]
  },
  {
   "cell_type": "code",
   "execution_count": 128,
   "metadata": {},
   "outputs": [],
   "source": [
    "class App:\n",
    "    def __init__(self, img, model, target=None):\n",
    "        self.root = Tk()\n",
    "        self.model = model\n",
    "        self.target = target\n",
    "        self.ori_img = img.resize((224, 224))\n",
    "        self.alpha = 0.1\n",
    "        self.image = ImageTk.PhotoImage(self.ori_img)\n",
    "        self.label = Label(self.root, image=self.image)\n",
    "        self.button_pgd = Button(self.root, text=\"PGD_attack\", command=self.pgd)\n",
    "        self.slider = Scale(self.root, from_=0, to=0.5, resolution=0.01,\n",
    "                                orient=\"horizontal\", command=self.updateAlpha)\n",
    "\n",
    "        self.target_choose = IntVar()\n",
    "        self.radio_notarget = Radiobutton(self.root, text=\"No Attack\", variable=self.target_choose, value=0, command=self.reset)\n",
    "        self.radio_target = Radiobutton(self.root, text=\"Target Attack\", variable=self.target_choose, value=1, command=self.pgd)\n",
    "        self.radio_non_target = Radiobutton(self.root, text=\"Non-Target Attack\", variable=self.target_choose, value=2, command=self.pgd)\n",
    "\n",
    "        #self.slider.set(0.1)\n",
    "        self.slider.grid(row=0, column=1)\n",
    "        #self.button_pgd.grid(row=1, column=1)\n",
    "        self.label.grid(row=0, column=0)\n",
    "        self.radio_notarget.grid(row=2, column=0)\n",
    "        self.radio_target.grid(row=2, column=1)\n",
    "        self.radio_non_target.grid(row=2, column=2)\n",
    "\n",
    "        self.root.mainloop()\n",
    "\n",
    "    def pgd(self):\n",
    "        model = self.model\n",
    "        model.eval()\n",
    "        X = transforms_test(self.ori_img).unsqueeze(0).to(device)\n",
    "        y = model(X).argmax(1)\n",
    "        epsilon, alpha, num_iter = self.alpha, self.alpha, 1\n",
    "\n",
    "        delta = torch.rand_like(X, requires_grad=True)\n",
    "        #set delta to be in the range of perturbation\n",
    "        delta.data = delta.data * 2 * epsilon - epsilon\n",
    "\n",
    "        for t in range(num_iter):\n",
    "            \n",
    "            yd = model(X + delta)\n",
    "            loss = nn.CrossEntropyLoss()(yd, y)\n",
    "            loss.backward()\n",
    "            delta.data = (delta + alpha*delta.grad.detach().sign()).clamp(-epsilon,epsilon)\n",
    "            delta.grad.zero_()\n",
    "\n",
    "        #tensor to image\n",
    "        \n",
    "        new_img = (X + delta).squeeze(0).cpu().detach().numpy()\n",
    "        new_img = new_img.transpose(1,2,0)\n",
    "        mean = np.array([0.485, 0.456, 0.406])\n",
    "        std = np.array([0.229, 0.224, 0.225])\n",
    "        new_img = std * new_img + mean\n",
    "        new_img = np.clip(new_img, 0, 1)\n",
    "        new_img = Image.fromarray((new_img*255).astype(np.uint8))\n",
    "\n",
    "        self.image = ImageTk.PhotoImage(new_img)\n",
    "        self.label.configure(image=self.image)\n",
    "\n",
    "         \n",
    "    def updateAlpha(self, event):\n",
    "\n",
    "        if self.target_choose.get() != 0:\n",
    "            self.alpha = self.slider.get()\n",
    "            self.pgd()\n",
    "\n",
    "    def reset(self):\n",
    "        self.image = ImageTk.PhotoImage(self.ori_img)\n",
    "        self.label.configure(image=self.image)\n",
    "        \n",
    "\n"
   ]
  },
  {
   "cell_type": "code",
   "execution_count": 129,
   "metadata": {},
   "outputs": [],
   "source": [
    "img = Image.open(\"Private_dataset/Jiaxun/0200.jpg\")\n",
    "model = torch.load(\"models/model_310_plus_max_pro_ultra.pt\", map_location=device)"
   ]
  },
  {
   "cell_type": "code",
   "execution_count": 131,
   "metadata": {},
   "outputs": [
    {
     "data": {
      "text/plain": [
       "<__main__.App at 0x232af755f10>"
      ]
     },
     "execution_count": 131,
     "metadata": {},
     "output_type": "execute_result"
    }
   ],
   "source": [
    "App(img, model, 307)"
   ]
  },
  {
   "cell_type": "code",
   "execution_count": null,
   "metadata": {},
   "outputs": [],
   "source": []
  },
  {
   "cell_type": "code",
   "execution_count": null,
   "metadata": {},
   "outputs": [],
   "source": []
  },
  {
   "cell_type": "code",
   "execution_count": null,
   "metadata": {},
   "outputs": [],
   "source": []
  }
 ],
 "metadata": {
  "kernelspec": {
   "display_name": "Python 3.8.13 ('torch')",
   "language": "python",
   "name": "python3"
  },
  "language_info": {
   "codemirror_mode": {
    "name": "ipython",
    "version": 3
   },
   "file_extension": ".py",
   "mimetype": "text/x-python",
   "name": "python",
   "nbconvert_exporter": "python",
   "pygments_lexer": "ipython3",
   "version": "3.8.13"
  },
  "orig_nbformat": 4,
  "vscode": {
   "interpreter": {
    "hash": "0b763bb86ee93252df19d4bd54cbe9276292bdb09ab6bdcdd7ab663e1bedab76"
   }
  }
 },
 "nbformat": 4,
 "nbformat_minor": 2
}
