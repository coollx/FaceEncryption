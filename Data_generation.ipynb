{
 "cells": [
  {
   "cell_type": "code",
   "execution_count": 8,
   "metadata": {},
   "outputs": [],
   "source": [
    "from IPython.display import Video\n",
    "import cv2\n",
    "import os\n",
    "import random"
   ]
  },
  {
   "cell_type": "code",
   "execution_count": 16,
   "metadata": {},
   "outputs": [],
   "source": [
    "def generate_frame(path, frame_number):\n",
    "    #create folder if it doesn't exist\n",
    "    if not os.path.exists('Private_dataset/' + path):\n",
    "        os.makedirs('Private_dataset/' + path)\n",
    "        \n",
    "\n",
    "    vidcap = cv2.VideoCapture('Private_dataset/{}.MOV'.format(path))\n",
    "\n",
    "    #sample 40 frames uniformly from the video\n",
    "    frame_count = int(vidcap.get(cv2.CAP_PROP_FRAME_COUNT))\n",
    "    frame_indices = sorted(random.sample(range(frame_count), frame_number))\n",
    "    vidcap.set(cv2.CAP_PROP_POS_FRAMES, frame_indices[0])\n",
    "    success, image = vidcap.read()\n",
    "    count = 0\n",
    "    for i in range(1, frame_count):\n",
    "        if i == frame_indices[count]:\n",
    "            #rotate the image 180 degrees\n",
    "            image = cv2.rotate(image, cv2.ROTATE_180)\n",
    "            cv2.imwrite(f\"./Private_dataset/{format(path)}/{format(count, '04d')}.jpg\", image)\n",
    "            count += 1\n",
    "            if count >= len(frame_indices):\n",
    "                break\n",
    "        success, image = vidcap.read()\n",
    "        if not success:\n",
    "            break\n",
    "\n",
    "\n",
    "generate_frame('Xiang', 40)\n",
    "generate_frame('Jiaxun', 40)\n",
    "generate_frame('Bowen', 40)"
   ]
  },
  {
   "cell_type": "code",
   "execution_count": 10,
   "metadata": {},
   "outputs": [],
   "source": []
  },
  {
   "cell_type": "code",
   "execution_count": null,
   "metadata": {},
   "outputs": [],
   "source": []
  }
 ],
 "metadata": {
  "kernelspec": {
   "display_name": "Python 3.8.13 ('d2l')",
   "language": "python",
   "name": "python3"
  },
  "language_info": {
   "codemirror_mode": {
    "name": "ipython",
    "version": 3
   },
   "file_extension": ".py",
   "mimetype": "text/x-python",
   "name": "python",
   "nbconvert_exporter": "python",
   "pygments_lexer": "ipython3",
   "version": "3.8.13"
  },
  "orig_nbformat": 4,
  "vscode": {
   "interpreter": {
    "hash": "b6811291ebc6a1101dad9e06911db63e2939aee7bbc2b0dc38a0c92b3ecb53df"
   }
  }
 },
 "nbformat": 4,
 "nbformat_minor": 2
}
