{
 "cells": [
  {
   "cell_type": "markdown",
   "metadata": {},
   "source": [
    "Generate private data"
   ]
  },
  {
   "cell_type": "code",
   "execution_count": 2,
   "metadata": {},
   "outputs": [],
   "source": [
    "import cv2\n",
    "import os\n",
    "import random\n",
    "import torch\n",
    "import mediapipe as mp\n",
    "import tqdm\n",
    "mp_face_detection = mp.solutions.face_detection\n",
    "mp_drawing = mp.solutions.drawing_utils\n"
   ]
  },
  {
   "cell_type": "code",
   "execution_count": null,
   "metadata": {},
   "outputs": [],
   "source": [
    "#cv2 read video\n",
    "cap = cv2.VideoCapture('private_dataset/Xiang.mp4')\n",
    "\n",
    "def generate_frame(path, frame_number):\n",
    "    #create folder if it doesn't exist\n",
    "    if not os.path.exists('Private_dataset/' + path):\n",
    "        os.makedirs('Private_dataset/' + path)\n",
    "        \n",
    "\n",
    "    vidcap = cv2.VideoCapture('Private_dataset/{}.mp4'.format(path))\n",
    "    #sample 40 frames uniformly from the video\n",
    "    frame_count = int(vidcap.get(cv2.CAP_PROP_FRAME_COUNT))\n",
    "    frame_indices = sorted(random.sample(range(frame_count), frame_number))\n",
    "    vidcap.set(cv2.CAP_PROP_POS_FRAMES, frame_indices[0])\n",
    "    success, image = vidcap.read()\n",
    "    count = 0\n",
    "    face_detection = mp_face_detection.FaceDetection(model_selection=0, min_detection_confidence=0.5)\n",
    "    res = []\n",
    "    print(frame_indices)\n",
    "    \n",
    "    for i in range(1, frame_count):\n",
    "        \n",
    "        if i == frame_indices[count]:\n",
    "            #rotate the image 180 degrees\n",
    "            image = cv2.cvtColor(image, cv2.COLOR_BGR2RGB)\n",
    "            results = face_detection.process(image)\n",
    "            image = cv2.cvtColor(image, cv2.COLOR_RGB2BGR)\n",
    "            if results.detections:\n",
    "                for detection in results.detections:\n",
    "                    #get the bounding box\n",
    "                    bbox = detection.location_data.relative_bounding_box\n",
    "                    #get the center of the bounding box\n",
    "                    center_x = bbox.xmin + bbox.width / 2\n",
    "                    center_y = bbox.ymin + bbox.height / 2 \n",
    "\n",
    "                    center_x = int(center_x * image.shape[1])\n",
    "                    center_y = int(center_y * image.shape[0])\n",
    "\n",
    "                    size = int(max(bbox.width * image.shape[1], bbox.height * image.shape[0])*1)\n",
    "                    size = int(size/2) + 10\n",
    "                    image = image[center_y-size-5:center_y+size-5, center_x-size:center_x+size]\n",
    "                    try:\n",
    "                        #rotate the image 180 degrees\n",
    "                        image = cv2.rotate(image, cv2.ROTATE_180)\n",
    "                        cv2.imwrite(f\"./Private_dataset/{format(path)}/{format(count, '04d')}.jpg\", image)\n",
    "                        print(f\"./Private_dataset/{format(path)}/{format(count, '04d')}.jpg\")\n",
    "                        res.append(image)\n",
    "                    except:\n",
    "                        print(\"error\")\n",
    "            else:\n",
    "                print(\"no face detected\")\n",
    "\n",
    "            count += 1\n",
    "            if count >= len(frame_indices):\n",
    "                    break\n",
    "        success, image = vidcap.read()\n",
    "        #print(success)\n",
    "        if not success:\n",
    "            break\n",
    "\n",
    "generate_frame('Xiang', 40)\n"
   ]
  },
  {
   "attachments": {},
   "cell_type": "markdown",
   "metadata": {},
   "source": [
    "### Store generated data"
   ]
  },
  {
   "cell_type": "code",
   "execution_count": 7,
   "metadata": {},
   "outputs": [],
   "source": [
    "import os\n",
    "from random import sample\n",
    "\n",
    "src_path = './CelebA_HQ_facial_identity_dataset/train/'\n",
    "des_path = './Dataset/train/'\n",
    "\n",
    "# loop through all the subfolders in the dataset\n",
    "for subfolder in os.listdir(src_path):\n",
    "    subfolder_path = os.path.join(src_path, subfolder)\n",
    "\n",
    "    # check if the subfolder contains more than 20 images\n",
    "    if len(os.listdir(subfolder_path)) > 20:\n",
    "        # sample 20 images uniformly from the subfolder\n",
    "        image_filenames = sample(os.listdir(subfolder_path), 20)\n",
    "\n",
    "        # copy the sampled images to the destination folder\n",
    "        for image_filename in image_filenames:\n",
    "            image_path = os.path.join(subfolder_path, image_filename)\n",
    "            os.system('cp {} {}'.format(image_path, des_path))\n",
    "            "
   ]
  },
  {
   "cell_type": "code",
   "execution_count": 4,
   "metadata": {},
   "outputs": [
    {
     "data": {
      "text/plain": [
       "'./CelebA_HQ_facial_identity_dataset/train/Xiang/0002.jpg'"
      ]
     },
     "execution_count": 4,
     "metadata": {},
     "output_type": "execute_result"
    }
   ],
   "source": [
    "subfolder_path"
   ]
  },
  {
   "cell_type": "markdown",
   "metadata": {},
   "source": []
  }
 ],
 "metadata": {
  "kernelspec": {
   "display_name": "Python 3.8.13 ('SDS')",
   "language": "python",
   "name": "python3"
  },
  "language_info": {
   "codemirror_mode": {
    "name": "ipython",
    "version": 3
   },
   "file_extension": ".py",
   "mimetype": "text/x-python",
   "name": "python",
   "nbconvert_exporter": "python",
   "pygments_lexer": "ipython3",
   "version": "3.8.13"
  },
  "orig_nbformat": 4,
  "vscode": {
   "interpreter": {
    "hash": "64d289be222cedc063c7d93f6e3cd98c637b22e21817e88681cd2d85cbb06b17"
   }
  }
 },
 "nbformat": 4,
 "nbformat_minor": 2
}
